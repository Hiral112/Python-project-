{
 "cells": [
  {
   "cell_type": "markdown",
   "metadata": {},
   "source": [
    "> #                                Data Analytics Final Project - KGF Airlines\n",
    "\n",
    "\n",
    "* **Team Members** - Karishma Parasa, Hiralben Utsav\n",
    "* **Presentation Date** - 21st Apr 2022"
   ]
  },
  {
   "cell_type": "code",
   "execution_count": 1,
   "metadata": {},
   "outputs": [],
   "source": [
    "## Import Mandatory Packages ##\n",
    "import pandas as pd\n",
    "import numpy as np\n",
    "import seaborn as sns\n",
    "import matplotlib as mpl\n",
    "import matplotlib.pyplot as plt\n"
   ]
  },
  {
   "cell_type": "code",
   "execution_count": 2,
   "metadata": {},
   "outputs": [],
   "source": [
    "import altair as alt"
   ]
  },
  {
   "cell_type": "markdown",
   "metadata": {},
   "source": [
    "##  Import and display the dataset along with dataset information"
   ]
  },
  {
   "cell_type": "code",
   "execution_count": 8,
   "metadata": {},
   "outputs": [
    {
     "name": "stdout",
     "output_type": "stream",
     "text": [
      "Shape of data is : (25976, 29)\n",
      "<class 'pandas.core.frame.DataFrame'>\n",
      "RangeIndex: 25976 entries, 0 to 25975\n",
      "Data columns (total 29 columns):\n",
      " #   Column                             Non-Null Count  Dtype  \n",
      "---  ------                             --------------  -----  \n",
      " 0   Airline Name                       25976 non-null  object \n",
      " 1   Year                               25976 non-null  int64  \n",
      " 2   Port Country                       25976 non-null  object \n",
      " 3   Flight Id                          25976 non-null  int64  \n",
      " 4   Male Passengers                    25976 non-null  int64  \n",
      " 5   Female Passengers                  25976 non-null  int64  \n",
      " 6   Economy Class                      25976 non-null  int64  \n",
      " 7   Business Class                     25976 non-null  int64  \n",
      " 8   Economy Plus Class                 25976 non-null  int64  \n",
      " 9   Flight Distance(Miles)             25976 non-null  int64  \n",
      " 10  Inflight wifi service              25976 non-null  int64  \n",
      " 11  Departure/Arrival time convenient  25976 non-null  int64  \n",
      " 12  Ease of Online booking             25976 non-null  int64  \n",
      " 13  Gate location                      25976 non-null  int64  \n",
      " 14  Food and drink                     25976 non-null  int64  \n",
      " 15  Online boarding                    25976 non-null  int64  \n",
      " 16  Seat comfort                       25976 non-null  int64  \n",
      " 17  Inflight entertainment             25976 non-null  int64  \n",
      " 18  On-board service                   25976 non-null  int64  \n",
      " 19  Leg room service                   25976 non-null  int64  \n",
      " 20  Baggage handling                   25976 non-null  int64  \n",
      " 21  Checkin service                    25976 non-null  int64  \n",
      " 22  Inflight service                   25976 non-null  int64  \n",
      " 23  Cleanliness                        25976 non-null  int64  \n",
      " 24  Departure Delay in Minutes         25976 non-null  int64  \n",
      " 25  Arrival Delay in Minutes           25893 non-null  float64\n",
      " 26  Overall Rating                     25976 non-null  object \n",
      " 27  Operating Cost(In Dollars)         25976 non-null  int64  \n",
      " 28  Revenue(In Dollars)                25976 non-null  float64\n",
      "dtypes: float64(2), int64(24), object(3)\n",
      "memory usage: 5.7+ MB\n"
     ]
    }
   ],
   "source": [
    "\n",
    "## Import file ##\n",
    "\n",
    "Airline_Dataset = pd.read_excel(r'C:\\Users\\hp\\Downloads\\Final Data.xlsx')\n",
    "\n",
    "## Trim the column headings to remove unwanted spaces ##\n",
    "Airline_Dataset.columns = Airline_Dataset.columns.str.strip()\n",
    "\n",
    "print(\"Shape of data is :\",Airline_Dataset.shape)\n",
    "Airline_Dataset.info()\n"
   ]
  },
  {
   "cell_type": "code",
   "execution_count": 9,
   "metadata": {},
   "outputs": [
    {
     "data": {
      "text/html": [
       "<div>\n",
       "<style scoped>\n",
       "    .dataframe tbody tr th:only-of-type {\n",
       "        vertical-align: middle;\n",
       "    }\n",
       "\n",
       "    .dataframe tbody tr th {\n",
       "        vertical-align: top;\n",
       "    }\n",
       "\n",
       "    .dataframe thead th {\n",
       "        text-align: right;\n",
       "    }\n",
       "</style>\n",
       "<table border=\"1\" class=\"dataframe\">\n",
       "  <thead>\n",
       "    <tr style=\"text-align: right;\">\n",
       "      <th></th>\n",
       "      <th>Airline Name</th>\n",
       "      <th>Year</th>\n",
       "      <th>Port Country</th>\n",
       "      <th>Flight Id</th>\n",
       "      <th>Male Passengers</th>\n",
       "      <th>Female Passengers</th>\n",
       "      <th>Economy Class</th>\n",
       "      <th>Business Class</th>\n",
       "      <th>Economy Plus Class</th>\n",
       "      <th>Flight Distance(Miles)</th>\n",
       "      <th>...</th>\n",
       "      <th>Leg room service</th>\n",
       "      <th>Baggage handling</th>\n",
       "      <th>Checkin service</th>\n",
       "      <th>Inflight service</th>\n",
       "      <th>Cleanliness</th>\n",
       "      <th>Departure Delay in Minutes</th>\n",
       "      <th>Arrival Delay in Minutes</th>\n",
       "      <th>Overall Rating</th>\n",
       "      <th>Operating Cost(In Dollars)</th>\n",
       "      <th>Revenue(In Dollars)</th>\n",
       "    </tr>\n",
       "  </thead>\n",
       "  <tbody>\n",
       "    <tr>\n",
       "      <th>0</th>\n",
       "      <td>Air Caledonie</td>\n",
       "      <td>2020</td>\n",
       "      <td>New Caledonia</td>\n",
       "      <td>19556</td>\n",
       "      <td>163</td>\n",
       "      <td>37</td>\n",
       "      <td>113</td>\n",
       "      <td>10</td>\n",
       "      <td>77</td>\n",
       "      <td>160</td>\n",
       "      <td>...</td>\n",
       "      <td>5</td>\n",
       "      <td>5</td>\n",
       "      <td>2</td>\n",
       "      <td>5</td>\n",
       "      <td>5</td>\n",
       "      <td>50</td>\n",
       "      <td>44.0</td>\n",
       "      <td>Satisfied</td>\n",
       "      <td>18880</td>\n",
       "      <td>27376.000000</td>\n",
       "    </tr>\n",
       "    <tr>\n",
       "      <th>1</th>\n",
       "      <td>Air China</td>\n",
       "      <td>2020</td>\n",
       "      <td>China</td>\n",
       "      <td>90035</td>\n",
       "      <td>126</td>\n",
       "      <td>274</td>\n",
       "      <td>280</td>\n",
       "      <td>23</td>\n",
       "      <td>97</td>\n",
       "      <td>2863</td>\n",
       "      <td>...</td>\n",
       "      <td>4</td>\n",
       "      <td>4</td>\n",
       "      <td>3</td>\n",
       "      <td>4</td>\n",
       "      <td>5</td>\n",
       "      <td>0</td>\n",
       "      <td>0.0</td>\n",
       "      <td>Neutral</td>\n",
       "      <td>337834</td>\n",
       "      <td>489859.300000</td>\n",
       "    </tr>\n",
       "    <tr>\n",
       "      <th>2</th>\n",
       "      <td>Air India</td>\n",
       "      <td>2022</td>\n",
       "      <td>India</td>\n",
       "      <td>12360</td>\n",
       "      <td>103</td>\n",
       "      <td>97</td>\n",
       "      <td>130</td>\n",
       "      <td>1</td>\n",
       "      <td>69</td>\n",
       "      <td>192</td>\n",
       "      <td>...</td>\n",
       "      <td>1</td>\n",
       "      <td>3</td>\n",
       "      <td>2</td>\n",
       "      <td>2</td>\n",
       "      <td>2</td>\n",
       "      <td>0</td>\n",
       "      <td>0.0</td>\n",
       "      <td>Dissatisfied</td>\n",
       "      <td>22656</td>\n",
       "      <td>12586.666667</td>\n",
       "    </tr>\n",
       "    <tr>\n",
       "      <th>3</th>\n",
       "      <td>Air India</td>\n",
       "      <td>2016</td>\n",
       "      <td>Singapore</td>\n",
       "      <td>77959</td>\n",
       "      <td>73</td>\n",
       "      <td>327</td>\n",
       "      <td>295</td>\n",
       "      <td>26</td>\n",
       "      <td>79</td>\n",
       "      <td>3377</td>\n",
       "      <td>...</td>\n",
       "      <td>1</td>\n",
       "      <td>1</td>\n",
       "      <td>3</td>\n",
       "      <td>1</td>\n",
       "      <td>4</td>\n",
       "      <td>0</td>\n",
       "      <td>6.0</td>\n",
       "      <td>Dissatisfied</td>\n",
       "      <td>398486</td>\n",
       "      <td>221381.111111</td>\n",
       "    </tr>\n",
       "    <tr>\n",
       "      <th>4</th>\n",
       "      <td>Air Nauru</td>\n",
       "      <td>2011</td>\n",
       "      <td>Nauru</td>\n",
       "      <td>36875</td>\n",
       "      <td>172</td>\n",
       "      <td>128</td>\n",
       "      <td>209</td>\n",
       "      <td>24</td>\n",
       "      <td>67</td>\n",
       "      <td>1182</td>\n",
       "      <td>...</td>\n",
       "      <td>2</td>\n",
       "      <td>2</td>\n",
       "      <td>4</td>\n",
       "      <td>2</td>\n",
       "      <td>4</td>\n",
       "      <td>0</td>\n",
       "      <td>20.0</td>\n",
       "      <td>Neutral</td>\n",
       "      <td>139476</td>\n",
       "      <td>77486.666667</td>\n",
       "    </tr>\n",
       "  </tbody>\n",
       "</table>\n",
       "<p>5 rows × 29 columns</p>\n",
       "</div>"
      ],
      "text/plain": [
       "    Airline Name  Year   Port Country  Flight Id  Male Passengers  \\\n",
       "0  Air Caledonie  2020  New Caledonia      19556              163   \n",
       "1      Air China  2020          China      90035              126   \n",
       "2      Air India  2022          India      12360              103   \n",
       "3      Air India  2016      Singapore      77959               73   \n",
       "4      Air Nauru  2011          Nauru      36875              172   \n",
       "\n",
       "   Female Passengers  Economy Class  Business Class  Economy Plus Class  \\\n",
       "0                 37            113              10                  77   \n",
       "1                274            280              23                  97   \n",
       "2                 97            130               1                  69   \n",
       "3                327            295              26                  79   \n",
       "4                128            209              24                  67   \n",
       "\n",
       "   Flight Distance(Miles)  ...  Leg room service  Baggage handling  \\\n",
       "0                     160  ...                 5                 5   \n",
       "1                    2863  ...                 4                 4   \n",
       "2                     192  ...                 1                 3   \n",
       "3                    3377  ...                 1                 1   \n",
       "4                    1182  ...                 2                 2   \n",
       "\n",
       "   Checkin service  Inflight service  Cleanliness  Departure Delay in Minutes  \\\n",
       "0                2                 5            5                          50   \n",
       "1                3                 4            5                           0   \n",
       "2                2                 2            2                           0   \n",
       "3                3                 1            4                           0   \n",
       "4                4                 2            4                           0   \n",
       "\n",
       "   Arrival Delay in Minutes  Overall Rating  Operating Cost(In Dollars)  \\\n",
       "0                      44.0       Satisfied                       18880   \n",
       "1                       0.0         Neutral                      337834   \n",
       "2                       0.0    Dissatisfied                       22656   \n",
       "3                       6.0    Dissatisfied                      398486   \n",
       "4                      20.0         Neutral                      139476   \n",
       "\n",
       "   Revenue(In Dollars)  \n",
       "0         27376.000000  \n",
       "1        489859.300000  \n",
       "2         12586.666667  \n",
       "3        221381.111111  \n",
       "4         77486.666667  \n",
       "\n",
       "[5 rows x 29 columns]"
      ]
     },
     "execution_count": 9,
     "metadata": {},
     "output_type": "execute_result"
    }
   ],
   "source": [
    "Airline_Dataset.head(5)"
   ]
  },
  {
   "cell_type": "markdown",
   "metadata": {},
   "source": [
    "# Data Analysis"
   ]
  },
  {
   "cell_type": "markdown",
   "metadata": {},
   "source": [
    "**1. Display how many Airline Industries are operating their service worldwide in last decade**"
   ]
  },
  {
   "cell_type": "code",
   "execution_count": 36,
   "metadata": {},
   "outputs": [
    {
     "name": "stdout",
     "output_type": "stream",
     "text": [
      "Total Airlines: ['Air Caledonie' 'Air China' 'Air India' 'Air Nauru' 'Air New Zealand'\n",
      " 'Air Niugini' 'Air Pacific' 'Air Vanuatu' 'Alitalia' 'British Airways'\n",
      " 'Canadian Airlines Intl' 'Cathay Pacific Airways' 'Continental Airlines'\n",
      " 'Flying Tiger Line' 'Garuda Indonesia' 'Japan Airlines'\n",
      " 'KLM Royal Dutch Airlines' 'Lufthansa German Airlines'\n",
      " 'Malaysia Airlines' 'Olympic Airways' 'Pan American'\n",
      " 'Philippine Airlines' 'Polynesian Airlines' 'Qantas Airways'\n",
      " 'Royal Brunei Airlines' 'Singapore Airlines' 'South African Airways'\n",
      " 'Thai Airways International' 'Union de Transports Aeriens'\n",
      " 'Yugoslav Airlines' 'United Airlines' 'Merpati Nusantara Airlines'\n",
      " 'Cook Islands International' 'All Nippon Airways' 'Hawaiian Airlines'\n",
      " 'Solomon Airlines' 'Lauda Air' 'Aerolineas Argentinas'\n",
      " 'Federal Express Corporation' 'American Airlines' 'Korean Air' 'Gulf Air'\n",
      " 'Northwest Airlines' 'Pel-Air Aviation' 'Australia Asia Airlines'\n",
      " 'Mandarin Airlines' 'SriLankan Airlines' 'Air France'\n",
      " 'Aeroflot Russian Intl A/l' 'Sempati Air' 'Polar Air Cargo'\n",
      " 'Ansett International' 'Eva Air' 'Royal Tongan Airlines'\n",
      " 'Ansett Air Freight' 'Air Mauritius' 'National Airlines'\n",
      " 'Connie Kalitta Services' 'Middle East Airlines' 'Air Zimbabwe'\n",
      " 'Continental Micronesia' 'Evergreen Intl Airlines'\n",
      " 'Virgin Atlantic Airways' 'Kiwi Travel Intl Airlines'\n",
      " 'AOM French Airlines' 'EgyptAir' 'Asiana Airlines' 'National Jet Systems'\n",
      " 'Vietnam Airlines' 'Emirates' 'China Eastern Airlines'\n",
      " 'Martinair Holland' 'Freedom Air International' 'Asian Express Airlines'\n",
      " 'MBA Pty Ltd' 'China Southern Airlines' 'United Parcel Service'\n",
      " 'Flight West Airlines' 'Lan Chile' 'Swissair' 'China Airlines'\n",
      " 'Cargolux Airlines Intl' 'Air Canada' 'Gemini Air Cargo'\n",
      " 'Australian Airlines' 'Air Paradise International' 'Virgin Australia'\n",
      " 'Virgin Samoa' 'Norfolk Jet Express' 'Valuair' 'Transair'\n",
      " 'Air Andorra Nui' 'Austrian Airlines' 'Airlines PNG' 'Jetstar'\n",
      " 'Tiger Airways' 'JALways' 'Pacific Air Express' 'Etihad Airways']\n"
     ]
    }
   ],
   "source": [
    "Total_Airlines = Airline_Dataset['Airline Name'].unique()\n",
    "print('Total Airlines:', Total_Airlines)"
   ]
  },
  {
   "cell_type": "code",
   "execution_count": 41,
   "metadata": {},
   "outputs": [
    {
     "name": "stdout",
     "output_type": "stream",
     "text": [
      "Total Number of Airlines: 99\n"
     ]
    }
   ],
   "source": [
    "Total_Airlines_Num = len(Airline_Dataset['Airline Name'].unique())\n",
    "print('Total Number of Airlines:', Total_Airlines_Num)"
   ]
  },
  {
   "cell_type": "markdown",
   "metadata": {},
   "source": [
    "**2. Which Airline Covered Maximum Flight Distance**"
   ]
  },
  {
   "cell_type": "code",
   "execution_count": 45,
   "metadata": {},
   "outputs": [
    {
     "data": {
      "text/html": [
       "<div>\n",
       "<style scoped>\n",
       "    .dataframe tbody tr th:only-of-type {\n",
       "        vertical-align: middle;\n",
       "    }\n",
       "\n",
       "    .dataframe tbody tr th {\n",
       "        vertical-align: top;\n",
       "    }\n",
       "\n",
       "    .dataframe thead th {\n",
       "        text-align: right;\n",
       "    }\n",
       "</style>\n",
       "<table border=\"1\" class=\"dataframe\">\n",
       "  <thead>\n",
       "    <tr style=\"text-align: right;\">\n",
       "      <th></th>\n",
       "      <th>Airline Name</th>\n",
       "      <th>sum</th>\n",
       "    </tr>\n",
       "  </thead>\n",
       "  <tbody>\n",
       "    <tr>\n",
       "      <th>78</th>\n",
       "      <td>Qantas Airways</td>\n",
       "      <td>6963391</td>\n",
       "    </tr>\n",
       "  </tbody>\n",
       "</table>\n",
       "</div>"
      ],
      "text/plain": [
       "      Airline Name      sum\n",
       "78  Qantas Airways  6963391"
      ]
     },
     "execution_count": 45,
     "metadata": {},
     "output_type": "execute_result"
    }
   ],
   "source": [
    "Flightdistance = Airline_Dataset.groupby('Airline Name')['Flight Distance(Miles)'].sum().reset_index(name='sum')\n",
    "\n",
    "Flightdistance.loc[(Flightdistance['sum']==Flightdistance['sum'].max())]  "
   ]
  },
  {
   "cell_type": "markdown",
   "metadata": {},
   "source": [
    "**3. Display the top 10 Airlines average flight disctance using a bar graph**"
   ]
  },
  {
   "cell_type": "code",
   "execution_count": 72,
   "metadata": {},
   "outputs": [
    {
     "name": "stdout",
     "output_type": "stream",
     "text": [
      "                   Airline Name      sum\n",
      "78               Qantas Airways  6963391\n",
      "28              British Airways  1408366\n",
      "60    Lufthansa German Airlines   905296\n",
      "11              Air New Zealand   902261\n",
      "77          Polynesian Airlines   727237\n",
      "87   Thai Airways International   599204\n",
      "55     KLM Royal Dutch Airlines   583422\n",
      "29       Canadian Airlines Intl   577248\n",
      "90  Union de Transports Aeriens   568384\n",
      "22         Ansett International   568325\n"
     ]
    }
   ],
   "source": [
    "SortFlightDistance = Flightdistance.sort_values('sum',ascending=False)\n",
    "Top_10 = SortFlightDistance.iloc[:10]\n",
    "print(Top_10)"
   ]
  },
  {
   "cell_type": "code",
   "execution_count": 94,
   "metadata": {},
   "outputs": [
    {
     "data": {
      "text/plain": [
       "<AxesSubplot:xlabel='Airline Name'>"
      ]
     },
     "execution_count": 94,
     "metadata": {},
     "output_type": "execute_result"
    },
    {
     "data": {
      "image/png": "[encoded data removed]",
      "text/plain": [
       "<Figure size 432x288 with 1 Axes>"
      ]
     },
     "metadata": {
      "needs_background": "light"
     },
     "output_type": "display_data"
    }
   ],
   "source": [
    "Top_10.groupby('Airline Name')['sum'].mean().reset_index(name = 'Average Distance').plot(x = 'Airline Name', kind = 'bar')"
   ]
  },
  {
   "cell_type": "markdown",
   "metadata": {},
   "source": [
    "**4. Which Airline Covered Minimum Flight Distance**"
   ]
  },
  {
   "cell_type": "code",
   "execution_count": 74,
   "metadata": {},
   "outputs": [
    {
     "data": {
      "text/html": [
       "<div>\n",
       "<style scoped>\n",
       "    .dataframe tbody tr th:only-of-type {\n",
       "        vertical-align: middle;\n",
       "    }\n",
       "\n",
       "    .dataframe tbody tr th {\n",
       "        vertical-align: top;\n",
       "    }\n",
       "\n",
       "    .dataframe thead th {\n",
       "        text-align: right;\n",
       "    }\n",
       "</style>\n",
       "<table border=\"1\" class=\"dataframe\">\n",
       "  <thead>\n",
       "    <tr style=\"text-align: right;\">\n",
       "      <th></th>\n",
       "      <th>Airline Name</th>\n",
       "      <th>sum</th>\n",
       "    </tr>\n",
       "  </thead>\n",
       "  <tbody>\n",
       "    <tr>\n",
       "      <th>72</th>\n",
       "      <td>Pacific Air Express</td>\n",
       "      <td>4678</td>\n",
       "    </tr>\n",
       "  </tbody>\n",
       "</table>\n",
       "</div>"
      ],
      "text/plain": [
       "           Airline Name   sum\n",
       "72  Pacific Air Express  4678"
      ]
     },
     "execution_count": 74,
     "metadata": {},
     "output_type": "execute_result"
    }
   ],
   "source": [
    "Flightdistance.loc[(Flightdistance['sum']==Flightdistance['sum'].min())]  "
   ]
  },
  {
   "cell_type": "markdown",
   "metadata": {},
   "source": [
    "**5. Display the top 10 Airlines average flight disctance using a bar graph**"
   ]
  },
  {
   "cell_type": "code",
   "execution_count": 75,
   "metadata": {},
   "outputs": [
    {
     "name": "stdout",
     "output_type": "stream",
     "text": [
      "            Airline Name    sum\n",
      "72   Pacific Air Express   4678\n",
      "74      Pel-Air Aviation   7424\n",
      "41        Etihad Airways   7632\n",
      "69   Norfolk Jet Express   9651\n",
      "67     National Airlines   9840\n",
      "45  Flight West Airlines  14889\n",
      "17          Airlines PNG  15011\n",
      "61           MBA Pty Ltd  16124\n",
      "93               Valuair  16418\n",
      "86              Swissair  16879\n"
     ]
    }
   ],
   "source": [
    "SortFlightDistanceMin = Flightdistance.sort_values('sum')\n",
    "Last_10 = SortFlightDistanceMin.iloc[:10]\n",
    "print(Last_10)"
   ]
  },
  {
   "cell_type": "code",
   "execution_count": 83,
   "metadata": {},
   "outputs": [
    {
     "data": {
      "text/plain": [
       "<AxesSubplot:xlabel='Airline Name'>"
      ]
     },
     "execution_count": 83,
     "metadata": {},
     "output_type": "execute_result"
    },
    {
     "data": {
      "image/png": "[encoded data removed]",
      "text/plain": [
       "<Figure size 432x288 with 1 Axes>"
      ]
     },
     "metadata": {
      "needs_background": "light"
     },
     "output_type": "display_data"
    }
   ],
   "source": [
    "Last_10.groupby('Airline Name')['sum'].mean().reset_index(name = 'Average Distance').plot(x = 'Airline Name', kind = 'bar')"
   ]
  },
  {
   "cell_type": "markdown",
   "metadata": {},
   "source": [
    "**6. Which Airlines scheuled lowest number of flights in the last decade**"
   ]
  },
  {
   "cell_type": "code",
   "execution_count": 110,
   "metadata": {},
   "outputs": [
    {
     "data": {
      "text/html": [
       "<div>\n",
       "<style scoped>\n",
       "    .dataframe tbody tr th:only-of-type {\n",
       "        vertical-align: middle;\n",
       "    }\n",
       "\n",
       "    .dataframe tbody tr th {\n",
       "        vertical-align: top;\n",
       "    }\n",
       "\n",
       "    .dataframe thead th {\n",
       "        text-align: right;\n",
       "    }\n",
       "</style>\n",
       "<table border=\"1\" class=\"dataframe\">\n",
       "  <thead>\n",
       "    <tr style=\"text-align: right;\">\n",
       "      <th></th>\n",
       "      <th>Airline Name</th>\n",
       "      <th>count</th>\n",
       "    </tr>\n",
       "  </thead>\n",
       "  <tbody>\n",
       "    <tr>\n",
       "      <th>41</th>\n",
       "      <td>Etihad Airways</td>\n",
       "      <td>4</td>\n",
       "    </tr>\n",
       "  </tbody>\n",
       "</table>\n",
       "</div>"
      ],
      "text/plain": [
       "      Airline Name  count\n",
       "41  Etihad Airways      4"
      ]
     },
     "execution_count": 110,
     "metadata": {},
     "output_type": "execute_result"
    }
   ],
   "source": [
    "Lowest_Flights = Airline_Dataset.groupby('Airline Name')['Flight Id'].count().reset_index(name='count')\n",
    "\n",
    "Lowest_Flights.loc[(Lowest_Flights['count']==Lowest_Flights['count'].min())]  "
   ]
  },
  {
   "cell_type": "markdown",
   "metadata": {},
   "source": [
    "**7. Which Airlines scheuled highest number of flights in the last decade**"
   ]
  },
  {
   "cell_type": "code",
   "execution_count": 111,
   "metadata": {},
   "outputs": [
    {
     "data": {
      "text/html": [
       "<div>\n",
       "<style scoped>\n",
       "    .dataframe tbody tr th:only-of-type {\n",
       "        vertical-align: middle;\n",
       "    }\n",
       "\n",
       "    .dataframe tbody tr th {\n",
       "        vertical-align: top;\n",
       "    }\n",
       "\n",
       "    .dataframe thead th {\n",
       "        text-align: right;\n",
       "    }\n",
       "</style>\n",
       "<table border=\"1\" class=\"dataframe\">\n",
       "  <thead>\n",
       "    <tr style=\"text-align: right;\">\n",
       "      <th></th>\n",
       "      <th>Airline Name</th>\n",
       "      <th>count</th>\n",
       "    </tr>\n",
       "  </thead>\n",
       "  <tbody>\n",
       "    <tr>\n",
       "      <th>78</th>\n",
       "      <td>Qantas Airways</td>\n",
       "      <td>5901</td>\n",
       "    </tr>\n",
       "  </tbody>\n",
       "</table>\n",
       "</div>"
      ],
      "text/plain": [
       "      Airline Name  count\n",
       "78  Qantas Airways   5901"
      ]
     },
     "execution_count": 111,
     "metadata": {},
     "output_type": "execute_result"
    }
   ],
   "source": [
    "Highest_Flights = Airline_Dataset.groupby('Airline Name')['Flight Id'].count().reset_index(name='count')\n",
    "\n",
    "Highest_Flights.loc[(Highest_Flights['count']==Highest_Flights['count'].max())] "
   ]
  },
  {
   "cell_type": "markdown",
   "metadata": {},
   "source": [
    "**8. Which Airlines is preferred by the lowest number of passengers**"
   ]
  },
  {
   "cell_type": "code",
   "execution_count": 113,
   "metadata": {},
   "outputs": [
    {
     "name": "stdout",
     "output_type": "stream",
     "text": [
      "Total Number of Passengers Travelled:  7356100\n"
     ]
    }
   ],
   "source": [
    "#Total Number of Passengers travelled in whole last decade\n",
    "\n",
    "Total_Passengers= Airline_Dataset['Male Passengers'].sum() + Airline_Dataset['Female Passengers'].sum()\n",
    "print(\"Total Number of Passengers Travelled: \", Total_Passengers)"
   ]
  },
  {
   "cell_type": "code",
   "execution_count": 127,
   "metadata": {},
   "outputs": [
    {
     "data": {
      "text/html": [
       "<div>\n",
       "<style scoped>\n",
       "    .dataframe tbody tr th:only-of-type {\n",
       "        vertical-align: middle;\n",
       "    }\n",
       "\n",
       "    .dataframe tbody tr th {\n",
       "        vertical-align: top;\n",
       "    }\n",
       "\n",
       "    .dataframe thead th {\n",
       "        text-align: right;\n",
       "    }\n",
       "</style>\n",
       "<table border=\"1\" class=\"dataframe\">\n",
       "  <thead>\n",
       "    <tr style=\"text-align: right;\">\n",
       "      <th></th>\n",
       "      <th>Airline Name</th>\n",
       "      <th>sum</th>\n",
       "    </tr>\n",
       "  </thead>\n",
       "  <tbody>\n",
       "    <tr>\n",
       "      <th>41</th>\n",
       "      <td>Etihad AirwaysEtihad Airways</td>\n",
       "      <td>1400</td>\n",
       "    </tr>\n",
       "  </tbody>\n",
       "</table>\n",
       "</div>"
      ],
      "text/plain": [
       "                    Airline Name   sum\n",
       "41  Etihad AirwaysEtihad Airways  1400"
      ]
     },
     "execution_count": 127,
     "metadata": {},
     "output_type": "execute_result"
    }
   ],
   "source": [
    "Total_Passengers_Min = Airline_Dataset.groupby('Airline Name')['Male Passengers'].sum().reset_index(name='sum') + Airline_Dataset.groupby('Airline Name')['Female Passengers'].sum().reset_index(name='sum')\n",
    "\n",
    "Total_Passengers_Min[(Total_Passengers_Min['sum']==Total_Passengers_Min['sum'].min())] \n"
   ]
  },
  {
   "cell_type": "markdown",
   "metadata": {},
   "source": [
    "**9. Which Airlines is preferred by the highest number of passengers**"
   ]
  },
  {
   "cell_type": "code",
   "execution_count": 122,
   "metadata": {},
   "outputs": [
    {
     "data": {
      "text/html": [
       "<div>\n",
       "<style scoped>\n",
       "    .dataframe tbody tr th:only-of-type {\n",
       "        vertical-align: middle;\n",
       "    }\n",
       "\n",
       "    .dataframe tbody tr th {\n",
       "        vertical-align: top;\n",
       "    }\n",
       "\n",
       "    .dataframe thead th {\n",
       "        text-align: right;\n",
       "    }\n",
       "</style>\n",
       "<table border=\"1\" class=\"dataframe\">\n",
       "  <thead>\n",
       "    <tr style=\"text-align: right;\">\n",
       "      <th></th>\n",
       "      <th>Airline Name</th>\n",
       "      <th>sum</th>\n",
       "    </tr>\n",
       "  </thead>\n",
       "  <tbody>\n",
       "    <tr>\n",
       "      <th>78</th>\n",
       "      <td>Qantas AirwaysQantas Airways</td>\n",
       "      <td>1664300</td>\n",
       "    </tr>\n",
       "  </tbody>\n",
       "</table>\n",
       "</div>"
      ],
      "text/plain": [
       "                    Airline Name      sum\n",
       "78  Qantas AirwaysQantas Airways  1664300"
      ]
     },
     "execution_count": 122,
     "metadata": {},
     "output_type": "execute_result"
    }
   ],
   "source": [
    "Total_Passengers_Max = Airline_Dataset.groupby('Airline Name')['Male Passengers'].sum().reset_index(name='sum') + Airline_Dataset.groupby('Airline Name')['Female Passengers'].sum().reset_index(name='sum')\n",
    "\n",
    "Total_Passengers_Max[(Total_Passengers_Max['sum']==Total_Passengers_Max['sum'].max())] "
   ]
  },
  {
   "cell_type": "markdown",
   "metadata": {},
   "source": [
    "**10. Display the Top 5 Airlines with Highest Operating Cost(In Millions)**"
   ]
  },
  {
   "cell_type": "code",
   "execution_count": 149,
   "metadata": {},
   "outputs": [
    {
     "data": {
      "text/html": [
       "<div>\n",
       "<style scoped>\n",
       "    .dataframe tbody tr th:only-of-type {\n",
       "        vertical-align: middle;\n",
       "    }\n",
       "\n",
       "    .dataframe tbody tr th {\n",
       "        vertical-align: top;\n",
       "    }\n",
       "\n",
       "    .dataframe thead th {\n",
       "        text-align: right;\n",
       "    }\n",
       "</style>\n",
       "<table border=\"1\" class=\"dataframe\">\n",
       "  <thead>\n",
       "    <tr style=\"text-align: right;\">\n",
       "      <th></th>\n",
       "      <th>Airline Name</th>\n",
       "      <th>Total Operating cost in Millions</th>\n",
       "    </tr>\n",
       "  </thead>\n",
       "  <tbody>\n",
       "    <tr>\n",
       "      <th>0</th>\n",
       "      <td>AOM French Airlines</td>\n",
       "      <td>25.618272</td>\n",
       "    </tr>\n",
       "    <tr>\n",
       "      <th>1</th>\n",
       "      <td>Aeroflot Russian Intl A/l</td>\n",
       "      <td>4.656162</td>\n",
       "    </tr>\n",
       "    <tr>\n",
       "      <th>2</th>\n",
       "      <td>Aerolineas Argentinas</td>\n",
       "      <td>54.968530</td>\n",
       "    </tr>\n",
       "    <tr>\n",
       "      <th>3</th>\n",
       "      <td>Air Andorra Nui</td>\n",
       "      <td>4.755872</td>\n",
       "    </tr>\n",
       "    <tr>\n",
       "      <th>4</th>\n",
       "      <td>Air Caledonie</td>\n",
       "      <td>36.997012</td>\n",
       "    </tr>\n",
       "    <tr>\n",
       "      <th>...</th>\n",
       "      <td>...</td>\n",
       "      <td>...</td>\n",
       "    </tr>\n",
       "    <tr>\n",
       "      <th>94</th>\n",
       "      <td>Vietnam Airlines</td>\n",
       "      <td>17.775756</td>\n",
       "    </tr>\n",
       "    <tr>\n",
       "      <th>95</th>\n",
       "      <td>Virgin Atlantic Airways</td>\n",
       "      <td>19.205208</td>\n",
       "    </tr>\n",
       "    <tr>\n",
       "      <th>96</th>\n",
       "      <td>Virgin Australia</td>\n",
       "      <td>16.181930</td>\n",
       "    </tr>\n",
       "    <tr>\n",
       "      <th>97</th>\n",
       "      <td>Virgin Samoa</td>\n",
       "      <td>12.074586</td>\n",
       "    </tr>\n",
       "    <tr>\n",
       "      <th>98</th>\n",
       "      <td>Yugoslav Airlines</td>\n",
       "      <td>27.430162</td>\n",
       "    </tr>\n",
       "  </tbody>\n",
       "</table>\n",
       "<p>99 rows × 2 columns</p>\n",
       "</div>"
      ],
      "text/plain": [
       "                 Airline Name  Total Operating cost in Millions\n",
       "0         AOM French Airlines                         25.618272\n",
       "1   Aeroflot Russian Intl A/l                          4.656162\n",
       "2       Aerolineas Argentinas                         54.968530\n",
       "3             Air Andorra Nui                          4.755872\n",
       "4               Air Caledonie                         36.997012\n",
       "..                        ...                               ...\n",
       "94           Vietnam Airlines                         17.775756\n",
       "95    Virgin Atlantic Airways                         19.205208\n",
       "96           Virgin Australia                         16.181930\n",
       "97               Virgin Samoa                         12.074586\n",
       "98          Yugoslav Airlines                         27.430162\n",
       "\n",
       "[99 rows x 2 columns]"
      ]
     },
     "execution_count": 149,
     "metadata": {},
     "output_type": "execute_result"
    }
   ],
   "source": [
    "O = (Airline_Dataset.groupby('Airline Name')['Operating Cost(In Dollars)'].sum()/1000000).reset_index(name='Total Operating cost in Millions')\n",
    "O"
   ]
  },
  {
   "cell_type": "code",
   "execution_count": 148,
   "metadata": {},
   "outputs": [
    {
     "data": {
      "text/html": [
       "<div>\n",
       "<style scoped>\n",
       "    .dataframe tbody tr th:only-of-type {\n",
       "        vertical-align: middle;\n",
       "    }\n",
       "\n",
       "    .dataframe tbody tr th {\n",
       "        vertical-align: top;\n",
       "    }\n",
       "\n",
       "    .dataframe thead th {\n",
       "        text-align: right;\n",
       "    }\n",
       "</style>\n",
       "<table border=\"1\" class=\"dataframe\">\n",
       "  <thead>\n",
       "    <tr style=\"text-align: right;\">\n",
       "      <th></th>\n",
       "      <th>Airline Name</th>\n",
       "      <th>Total Operating cost in Millions</th>\n",
       "    </tr>\n",
       "  </thead>\n",
       "  <tbody>\n",
       "    <tr>\n",
       "      <th>78</th>\n",
       "      <td>Qantas Airways</td>\n",
       "      <td>821.680138</td>\n",
       "    </tr>\n",
       "    <tr>\n",
       "      <th>28</th>\n",
       "      <td>British Airways</td>\n",
       "      <td>166.187188</td>\n",
       "    </tr>\n",
       "    <tr>\n",
       "      <th>60</th>\n",
       "      <td>Lufthansa German Airlines</td>\n",
       "      <td>106.824928</td>\n",
       "    </tr>\n",
       "    <tr>\n",
       "      <th>11</th>\n",
       "      <td>Air New Zealand</td>\n",
       "      <td>106.466798</td>\n",
       "    </tr>\n",
       "    <tr>\n",
       "      <th>77</th>\n",
       "      <td>Polynesian Airlines</td>\n",
       "      <td>85.813966</td>\n",
       "    </tr>\n",
       "  </tbody>\n",
       "</table>\n",
       "</div>"
      ],
      "text/plain": [
       "                 Airline Name  Total Operating cost in Millions\n",
       "78             Qantas Airways                        821.680138\n",
       "28            British Airways                        166.187188\n",
       "60  Lufthansa German Airlines                        106.824928\n",
       "11            Air New Zealand                        106.466798\n",
       "77        Polynesian Airlines                         85.813966"
      ]
     },
     "execution_count": 148,
     "metadata": {},
     "output_type": "execute_result"
    }
   ],
   "source": [
    "Operating_cost = O.sort_values(by=\"Total Operating cost in Millions\",ascending=False)\n",
    "Operating_cost.head(5)"
   ]
  },
  {
   "cell_type": "markdown",
   "metadata": {},
   "source": [
    "**11. Display the Top 5 Airlines with Highest Revenue(In Millions)**"
   ]
  },
  {
   "cell_type": "code",
   "execution_count": 154,
   "metadata": {},
   "outputs": [
    {
     "data": {
      "text/html": [
       "<div>\n",
       "<style scoped>\n",
       "    .dataframe tbody tr th:only-of-type {\n",
       "        vertical-align: middle;\n",
       "    }\n",
       "\n",
       "    .dataframe tbody tr th {\n",
       "        vertical-align: top;\n",
       "    }\n",
       "\n",
       "    .dataframe thead th {\n",
       "        text-align: right;\n",
       "    }\n",
       "</style>\n",
       "<table border=\"1\" class=\"dataframe\">\n",
       "  <thead>\n",
       "    <tr style=\"text-align: right;\">\n",
       "      <th></th>\n",
       "      <th>Airline Name</th>\n",
       "      <th>Total Revenue in Millions</th>\n",
       "    </tr>\n",
       "  </thead>\n",
       "  <tbody>\n",
       "    <tr>\n",
       "      <th>0</th>\n",
       "      <td>AOM French Airlines</td>\n",
       "      <td>29.764927</td>\n",
       "    </tr>\n",
       "    <tr>\n",
       "      <th>1</th>\n",
       "      <td>Aeroflot Russian Intl A/l</td>\n",
       "      <td>6.134422</td>\n",
       "    </tr>\n",
       "    <tr>\n",
       "      <th>2</th>\n",
       "      <td>Aerolineas Argentinas</td>\n",
       "      <td>63.935606</td>\n",
       "    </tr>\n",
       "    <tr>\n",
       "      <th>3</th>\n",
       "      <td>Air Andorra Nui</td>\n",
       "      <td>5.501139</td>\n",
       "    </tr>\n",
       "    <tr>\n",
       "      <th>4</th>\n",
       "      <td>Air Caledonie</td>\n",
       "      <td>43.054599</td>\n",
       "    </tr>\n",
       "    <tr>\n",
       "      <th>...</th>\n",
       "      <td>...</td>\n",
       "      <td>...</td>\n",
       "    </tr>\n",
       "    <tr>\n",
       "      <th>94</th>\n",
       "      <td>Vietnam Airlines</td>\n",
       "      <td>19.583398</td>\n",
       "    </tr>\n",
       "    <tr>\n",
       "      <th>95</th>\n",
       "      <td>Virgin Atlantic Airways</td>\n",
       "      <td>21.245536</td>\n",
       "    </tr>\n",
       "    <tr>\n",
       "      <th>96</th>\n",
       "      <td>Virgin Australia</td>\n",
       "      <td>18.148158</td>\n",
       "    </tr>\n",
       "    <tr>\n",
       "      <th>97</th>\n",
       "      <td>Virgin Samoa</td>\n",
       "      <td>12.946730</td>\n",
       "    </tr>\n",
       "    <tr>\n",
       "      <th>98</th>\n",
       "      <td>Yugoslav Airlines</td>\n",
       "      <td>32.423936</td>\n",
       "    </tr>\n",
       "  </tbody>\n",
       "</table>\n",
       "<p>99 rows × 2 columns</p>\n",
       "</div>"
      ],
      "text/plain": [
       "                 Airline Name  Total Revenue in Millions\n",
       "0         AOM French Airlines                  29.764927\n",
       "1   Aeroflot Russian Intl A/l                   6.134422\n",
       "2       Aerolineas Argentinas                  63.935606\n",
       "3             Air Andorra Nui                   5.501139\n",
       "4               Air Caledonie                  43.054599\n",
       "..                        ...                        ...\n",
       "94           Vietnam Airlines                  19.583398\n",
       "95    Virgin Atlantic Airways                  21.245536\n",
       "96           Virgin Australia                  18.148158\n",
       "97               Virgin Samoa                  12.946730\n",
       "98          Yugoslav Airlines                  32.423936\n",
       "\n",
       "[99 rows x 2 columns]"
      ]
     },
     "execution_count": 154,
     "metadata": {},
     "output_type": "execute_result"
    }
   ],
   "source": [
    "R = (Airline_Dataset.groupby('Airline Name')['Revenue(In Dollars)'].sum()/1000000).reset_index(name='Total Revenue in Millions')\n",
    "R"
   ]
  },
  {
   "cell_type": "code",
   "execution_count": 155,
   "metadata": {},
   "outputs": [
    {
     "data": {
      "text/html": [
       "<div>\n",
       "<style scoped>\n",
       "    .dataframe tbody tr th:only-of-type {\n",
       "        vertical-align: middle;\n",
       "    }\n",
       "\n",
       "    .dataframe tbody tr th {\n",
       "        vertical-align: top;\n",
       "    }\n",
       "\n",
       "    .dataframe thead th {\n",
       "        text-align: right;\n",
       "    }\n",
       "</style>\n",
       "<table border=\"1\" class=\"dataframe\">\n",
       "  <thead>\n",
       "    <tr style=\"text-align: right;\">\n",
       "      <th></th>\n",
       "      <th>Airline Name</th>\n",
       "      <th>Total Revenue in Millions</th>\n",
       "    </tr>\n",
       "  </thead>\n",
       "  <tbody>\n",
       "    <tr>\n",
       "      <th>78</th>\n",
       "      <td>Qantas Airways</td>\n",
       "      <td>950.192419</td>\n",
       "    </tr>\n",
       "    <tr>\n",
       "      <th>28</th>\n",
       "      <td>British Airways</td>\n",
       "      <td>192.047456</td>\n",
       "    </tr>\n",
       "    <tr>\n",
       "      <th>11</th>\n",
       "      <td>Air New Zealand</td>\n",
       "      <td>124.933123</td>\n",
       "    </tr>\n",
       "    <tr>\n",
       "      <th>60</th>\n",
       "      <td>Lufthansa German Airlines</td>\n",
       "      <td>124.596552</td>\n",
       "    </tr>\n",
       "    <tr>\n",
       "      <th>77</th>\n",
       "      <td>Polynesian Airlines</td>\n",
       "      <td>98.739994</td>\n",
       "    </tr>\n",
       "  </tbody>\n",
       "</table>\n",
       "</div>"
      ],
      "text/plain": [
       "                 Airline Name  Total Revenue in Millions\n",
       "78             Qantas Airways                 950.192419\n",
       "28            British Airways                 192.047456\n",
       "11            Air New Zealand                 124.933123\n",
       "60  Lufthansa German Airlines                 124.596552\n",
       "77        Polynesian Airlines                  98.739994"
      ]
     },
     "execution_count": 155,
     "metadata": {},
     "output_type": "execute_result"
    }
   ],
   "source": [
    "Revenue = R.sort_values(by=\"Total Revenue in Millions\",ascending=False)\n",
    "Revenue.head(5)"
   ]
  },
  {
   "cell_type": "markdown",
   "metadata": {},
   "source": [
    "**12. Display the Top 5 Airlines with Highest Profit(In Millions)**\n",
    "\n",
    "(Profit = Revenue - Operating Cost)"
   ]
  },
  {
   "cell_type": "code",
   "execution_count": 234,
   "metadata": {},
   "outputs": [
    {
     "data": {
      "text/html": [
       "<div>\n",
       "<style scoped>\n",
       "    .dataframe tbody tr th:only-of-type {\n",
       "        vertical-align: middle;\n",
       "    }\n",
       "\n",
       "    .dataframe tbody tr th {\n",
       "        vertical-align: top;\n",
       "    }\n",
       "\n",
       "    .dataframe thead th {\n",
       "        text-align: right;\n",
       "    }\n",
       "</style>\n",
       "<table border=\"1\" class=\"dataframe\">\n",
       "  <thead>\n",
       "    <tr style=\"text-align: right;\">\n",
       "      <th></th>\n",
       "      <th>Airline Name</th>\n",
       "      <th>sum</th>\n",
       "    </tr>\n",
       "  </thead>\n",
       "  <tbody>\n",
       "    <tr>\n",
       "      <th>0</th>\n",
       "      <td>AOM French Airlines</td>\n",
       "      <td>25618272</td>\n",
       "    </tr>\n",
       "    <tr>\n",
       "      <th>1</th>\n",
       "      <td>Aeroflot Russian Intl A/l</td>\n",
       "      <td>4656162</td>\n",
       "    </tr>\n",
       "    <tr>\n",
       "      <th>2</th>\n",
       "      <td>Aerolineas Argentinas</td>\n",
       "      <td>54968530</td>\n",
       "    </tr>\n",
       "    <tr>\n",
       "      <th>3</th>\n",
       "      <td>Air Andorra Nui</td>\n",
       "      <td>4755872</td>\n",
       "    </tr>\n",
       "    <tr>\n",
       "      <th>4</th>\n",
       "      <td>Air Caledonie</td>\n",
       "      <td>36997012</td>\n",
       "    </tr>\n",
       "    <tr>\n",
       "      <th>...</th>\n",
       "      <td>...</td>\n",
       "      <td>...</td>\n",
       "    </tr>\n",
       "    <tr>\n",
       "      <th>94</th>\n",
       "      <td>Vietnam Airlines</td>\n",
       "      <td>17775756</td>\n",
       "    </tr>\n",
       "    <tr>\n",
       "      <th>95</th>\n",
       "      <td>Virgin Atlantic Airways</td>\n",
       "      <td>19205208</td>\n",
       "    </tr>\n",
       "    <tr>\n",
       "      <th>96</th>\n",
       "      <td>Virgin Australia</td>\n",
       "      <td>16181930</td>\n",
       "    </tr>\n",
       "    <tr>\n",
       "      <th>97</th>\n",
       "      <td>Virgin Samoa</td>\n",
       "      <td>12074586</td>\n",
       "    </tr>\n",
       "    <tr>\n",
       "      <th>98</th>\n",
       "      <td>Yugoslav Airlines</td>\n",
       "      <td>27430162</td>\n",
       "    </tr>\n",
       "  </tbody>\n",
       "</table>\n",
       "<p>99 rows × 2 columns</p>\n",
       "</div>"
      ],
      "text/plain": [
       "                 Airline Name       sum\n",
       "0         AOM French Airlines  25618272\n",
       "1   Aeroflot Russian Intl A/l   4656162\n",
       "2       Aerolineas Argentinas  54968530\n",
       "3             Air Andorra Nui   4755872\n",
       "4               Air Caledonie  36997012\n",
       "..                        ...       ...\n",
       "94           Vietnam Airlines  17775756\n",
       "95    Virgin Atlantic Airways  19205208\n",
       "96           Virgin Australia  16181930\n",
       "97               Virgin Samoa  12074586\n",
       "98          Yugoslav Airlines  27430162\n",
       "\n",
       "[99 rows x 2 columns]"
      ]
     },
     "execution_count": 234,
     "metadata": {},
     "output_type": "execute_result"
    }
   ],
   "source": [
    "#Profit = Airline_Dataset['Revenue(In Dollars)'] - Airline_Dataset['Operating Cost(In Dollars)']\n",
    "#rofit\n",
    "\n",
    "p1 = Airline_Dataset.groupby('Airline Name')['Revenue(In Dollars)'].sum().reset_index(name='sum') \n",
    "p1\n",
    "\n",
    "p2 = Airline_Dataset.groupby('Airline Name')['Operating Cost(In Dollars)'].sum().reset_index(name='sum') \n",
    "p2\n"
   ]
  },
  {
   "cell_type": "markdown",
   "metadata": {},
   "source": [
    "**13. Display the Percentage of Male Passengers**"
   ]
  },
  {
   "cell_type": "code",
   "execution_count": 159,
   "metadata": {},
   "outputs": [
    {
     "name": "stdout",
     "output_type": "stream",
     "text": [
      "Male Passenger Percentage:  39.68%\n"
     ]
    }
   ],
   "source": [
    "MalePassengerPercent = \"{:.2%}\".format(Airline_Dataset['Male Passengers'].sum()/(Airline_Dataset['Male Passengers'].sum()+Airline_Dataset['Female Passengers'].sum()))\n",
    "print(\"Male Passenger Percentage: \" , MalePassengerPercent)"
   ]
  },
  {
   "cell_type": "markdown",
   "metadata": {},
   "source": [
    "**14. Display the Percentage of Female Passengers**"
   ]
  },
  {
   "cell_type": "code",
   "execution_count": 161,
   "metadata": {},
   "outputs": [
    {
     "name": "stdout",
     "output_type": "stream",
     "text": [
      "Female Passenger Percentage:  60.32%\n"
     ]
    }
   ],
   "source": [
    "FemalePassengerPercent = \"{:.2%}\".format(Airline_Dataset['Female Passengers'].sum()/(Airline_Dataset['Male Passengers'].sum()+Airline_Dataset['Female Passengers'].sum()))\n",
    "print(\"Female Passenger Percentage: \" , FemalePassengerPercent)"
   ]
  },
  {
   "cell_type": "markdown",
   "metadata": {},
   "source": [
    "**15. Display the count of passengers who preferred Economy Class(In Lakhs)**"
   ]
  },
  {
   "cell_type": "code",
   "execution_count": 172,
   "metadata": {},
   "outputs": [
    {
     "name": "stdout",
     "output_type": "stream",
     "text": [
      "Number of Passengers who preferred Economy Class:  49.24449\n"
     ]
    }
   ],
   "source": [
    "Eco = Airline_Dataset['Economy Class'].sum()/100000\n",
    "print(\"Number of Passengers who preferred Economy Class: \" , Eco)"
   ]
  },
  {
   "cell_type": "markdown",
   "metadata": {},
   "source": [
    "**16. Display the count of passengers who preferred EconomyPlus Class(In Lakhs)**"
   ]
  },
  {
   "cell_type": "code",
   "execution_count": 168,
   "metadata": {},
   "outputs": [
    {
     "name": "stdout",
     "output_type": "stream",
     "text": [
      "Number of Passengers who preferred Economy Plus Class:  19.99318\n"
     ]
    }
   ],
   "source": [
    "EcoPlus = Airline_Dataset['Economy Plus Class'].sum()/100000\n",
    "print(\"Number of Passengers who preferred Economy Plus Class: \" , EcoPlus)"
   ]
  },
  {
   "cell_type": "markdown",
   "metadata": {},
   "source": [
    "**17. Display the count of passengers who preferred Business Class(In Lakhs)**"
   ]
  },
  {
   "cell_type": "code",
   "execution_count": 174,
   "metadata": {},
   "outputs": [
    {
     "name": "stdout",
     "output_type": "stream",
     "text": [
      "Number of Passengers who preferred Business Class:  4.32333\n"
     ]
    }
   ],
   "source": [
    "Business = Airline_Dataset['Business Class'].sum()/100000\n",
    "print(\"Number of Passengers who preferred Business Class: \" , Business)"
   ]
  },
  {
   "cell_type": "markdown",
   "metadata": {},
   "source": [
    "**18. What are the parameters considered for Customer Rating**"
   ]
  },
  {
   "cell_type": "code",
   "execution_count": 197,
   "metadata": {},
   "outputs": [
    {
     "name": "stdout",
     "output_type": "stream",
     "text": [
      "Parameters Considered for Customer Rating:\n",
      "Inflight wifi service \n",
      " Departure/Arrival time convenient \n",
      " Ease of Online booking \n",
      " Gate location \n",
      " Food and drink \n",
      " Online boarding \n",
      " Seat comfort \n",
      " Inflight entertainment \n",
      " On-board service \n",
      " Leg room service \n",
      " Baggage handling \n",
      " Checkin service \n",
      " Inflight service \n",
      " Cleanliness\n"
     ]
    }
   ],
   "source": [
    "Clmns = Airline_Dataset.columns\n",
    "print(\"Parameters Considered for Customer Rating:\")\n",
    "print(Clmns[10],\"\\n\",\n",
    "Clmns[11],\"\\n\",\n",
    "Clmns[12],\"\\n\",\n",
    "Clmns[13],\"\\n\",\n",
    "Clmns[14],\"\\n\",\n",
    "Clmns[15],\"\\n\",\n",
    "Clmns[16],\"\\n\",\n",
    "Clmns[17],\"\\n\",\n",
    "Clmns[18],\"\\n\",\n",
    "Clmns[19],\"\\n\",\n",
    "Clmns[20],\"\\n\",\n",
    "Clmns[21],\"\\n\",\n",
    "Clmns[22],\"\\n\",\n",
    "Clmns[23])\n"
   ]
  },
  {
   "cell_type": "markdown",
   "metadata": {},
   "source": [
    "**19. Display Graph for Operating Cost and Revenue by Year**"
   ]
  },
  {
   "cell_type": "code",
   "execution_count": 13,
   "metadata": {},
   "outputs": [],
   "source": [
    "A1 = Airline_Dataset.groupby('Year')['Operating Cost(In Dollars)'].sum().reset_index(name='op')\n",
    "A2= Airline_Dataset.groupby('Year')['Revenue(In Dollars)'].sum().reset_index(name='re')"
   ]
  },
  {
   "cell_type": "code",
   "execution_count": 14,
   "metadata": {},
   "outputs": [
    {
     "data": {
      "text/html": [
       "<div>\n",
       "<style scoped>\n",
       "    .dataframe tbody tr th:only-of-type {\n",
       "        vertical-align: middle;\n",
       "    }\n",
       "\n",
       "    .dataframe tbody tr th {\n",
       "        vertical-align: top;\n",
       "    }\n",
       "\n",
       "    .dataframe thead th {\n",
       "        text-align: right;\n",
       "    }\n",
       "</style>\n",
       "<table border=\"1\" class=\"dataframe\">\n",
       "  <thead>\n",
       "    <tr style=\"text-align: right;\">\n",
       "      <th></th>\n",
       "      <th>Year</th>\n",
       "      <th>re</th>\n",
       "    </tr>\n",
       "  </thead>\n",
       "  <tbody>\n",
       "    <tr>\n",
       "      <th>0</th>\n",
       "      <td>2011</td>\n",
       "      <td>347726278</td>\n",
       "    </tr>\n",
       "    <tr>\n",
       "      <th>1</th>\n",
       "      <td>2012</td>\n",
       "      <td>361261685</td>\n",
       "    </tr>\n",
       "    <tr>\n",
       "      <th>2</th>\n",
       "      <td>2013</td>\n",
       "      <td>341659209</td>\n",
       "    </tr>\n",
       "    <tr>\n",
       "      <th>3</th>\n",
       "      <td>2014</td>\n",
       "      <td>334557749</td>\n",
       "    </tr>\n",
       "    <tr>\n",
       "      <th>4</th>\n",
       "      <td>2015</td>\n",
       "      <td>365513356</td>\n",
       "    </tr>\n",
       "    <tr>\n",
       "      <th>5</th>\n",
       "      <td>2016</td>\n",
       "      <td>372399161</td>\n",
       "    </tr>\n",
       "    <tr>\n",
       "      <th>6</th>\n",
       "      <td>2017</td>\n",
       "      <td>373574237</td>\n",
       "    </tr>\n",
       "    <tr>\n",
       "      <th>7</th>\n",
       "      <td>2018</td>\n",
       "      <td>342736782</td>\n",
       "    </tr>\n",
       "    <tr>\n",
       "      <th>8</th>\n",
       "      <td>2019</td>\n",
       "      <td>348605135</td>\n",
       "    </tr>\n",
       "    <tr>\n",
       "      <th>9</th>\n",
       "      <td>2020</td>\n",
       "      <td>349937539</td>\n",
       "    </tr>\n",
       "    <tr>\n",
       "      <th>10</th>\n",
       "      <td>2021</td>\n",
       "      <td>347226190</td>\n",
       "    </tr>\n",
       "    <tr>\n",
       "      <th>11</th>\n",
       "      <td>2022</td>\n",
       "      <td>342054495</td>\n",
       "    </tr>\n",
       "  </tbody>\n",
       "</table>\n",
       "</div>"
      ],
      "text/plain": [
       "    Year        re\n",
       "0   2011 347726278\n",
       "1   2012 361261685\n",
       "2   2013 341659209\n",
       "3   2014 334557749\n",
       "4   2015 365513356\n",
       "5   2016 372399161\n",
       "6   2017 373574237\n",
       "7   2018 342736782\n",
       "8   2019 348605135\n",
       "9   2020 349937539\n",
       "10  2021 347226190\n",
       "11  2022 342054495"
      ]
     },
     "execution_count": 14,
     "metadata": {},
     "output_type": "execute_result"
    }
   ],
   "source": [
    "pd.options.display.float_format = '{:.0f}'.format\n",
    "A2"
   ]
  },
  {
   "cell_type": "code",
   "execution_count": 15,
   "metadata": {},
   "outputs": [
    {
     "data": {
      "text/html": [
       "<div>\n",
       "<style scoped>\n",
       "    .dataframe tbody tr th:only-of-type {\n",
       "        vertical-align: middle;\n",
       "    }\n",
       "\n",
       "    .dataframe tbody tr th {\n",
       "        vertical-align: top;\n",
       "    }\n",
       "\n",
       "    .dataframe thead th {\n",
       "        text-align: right;\n",
       "    }\n",
       "</style>\n",
       "<table border=\"1\" class=\"dataframe\">\n",
       "  <thead>\n",
       "    <tr style=\"text-align: right;\">\n",
       "      <th></th>\n",
       "      <th>Year</th>\n",
       "      <th>op</th>\n",
       "      <th>re</th>\n",
       "    </tr>\n",
       "  </thead>\n",
       "  <tbody>\n",
       "    <tr>\n",
       "      <th>0</th>\n",
       "      <td>2011</td>\n",
       "      <td>298333146</td>\n",
       "      <td>347726278</td>\n",
       "    </tr>\n",
       "    <tr>\n",
       "      <th>1</th>\n",
       "      <td>2012</td>\n",
       "      <td>316452046</td>\n",
       "      <td>361261685</td>\n",
       "    </tr>\n",
       "    <tr>\n",
       "      <th>2</th>\n",
       "      <td>2013</td>\n",
       "      <td>292179210</td>\n",
       "      <td>341659209</td>\n",
       "    </tr>\n",
       "    <tr>\n",
       "      <th>3</th>\n",
       "      <td>2014</td>\n",
       "      <td>289384970</td>\n",
       "      <td>334557749</td>\n",
       "    </tr>\n",
       "    <tr>\n",
       "      <th>4</th>\n",
       "      <td>2015</td>\n",
       "      <td>313048218</td>\n",
       "      <td>365513356</td>\n",
       "    </tr>\n",
       "    <tr>\n",
       "      <th>5</th>\n",
       "      <td>2016</td>\n",
       "      <td>323092614</td>\n",
       "      <td>372399161</td>\n",
       "    </tr>\n",
       "    <tr>\n",
       "      <th>6</th>\n",
       "      <td>2017</td>\n",
       "      <td>318233964</td>\n",
       "      <td>373574237</td>\n",
       "    </tr>\n",
       "    <tr>\n",
       "      <th>7</th>\n",
       "      <td>2018</td>\n",
       "      <td>301612602</td>\n",
       "      <td>342736782</td>\n",
       "    </tr>\n",
       "    <tr>\n",
       "      <th>8</th>\n",
       "      <td>2019</td>\n",
       "      <td>305426598</td>\n",
       "      <td>348605135</td>\n",
       "    </tr>\n",
       "    <tr>\n",
       "      <th>9</th>\n",
       "      <td>2020</td>\n",
       "      <td>304496286</td>\n",
       "      <td>349937539</td>\n",
       "    </tr>\n",
       "    <tr>\n",
       "      <th>10</th>\n",
       "      <td>2021</td>\n",
       "      <td>300420802</td>\n",
       "      <td>347226190</td>\n",
       "    </tr>\n",
       "    <tr>\n",
       "      <th>11</th>\n",
       "      <td>2022</td>\n",
       "      <td>296481726</td>\n",
       "      <td>342054495</td>\n",
       "    </tr>\n",
       "  </tbody>\n",
       "</table>\n",
       "</div>"
      ],
      "text/plain": [
       "    Year         op        re\n",
       "0   2011  298333146 347726278\n",
       "1   2012  316452046 361261685\n",
       "2   2013  292179210 341659209\n",
       "3   2014  289384970 334557749\n",
       "4   2015  313048218 365513356\n",
       "5   2016  323092614 372399161\n",
       "6   2017  318233964 373574237\n",
       "7   2018  301612602 342736782\n",
       "8   2019  305426598 348605135\n",
       "9   2020  304496286 349937539\n",
       "10  2021  300420802 347226190\n",
       "11  2022  296481726 342054495"
      ]
     },
     "execution_count": 15,
     "metadata": {},
     "output_type": "execute_result"
    }
   ],
   "source": [
    "New=pd.merge(A1,A2,how=\"inner\")\n",
    "New"
   ]
  },
  {
   "cell_type": "code",
   "execution_count": 17,
   "metadata": {},
   "outputs": [
    {
     "data": {
      "text/html": [
       "\n",
       "<div id=\"altair-viz-3fa80affe69e4d83b596fdcdef2c2d60\"></div>\n",
       "<script type=\"text/javascript\">\n",
       "  var VEGA_DEBUG = (typeof VEGA_DEBUG == \"undefined\") ? {} : VEGA_DEBUG;\n",
       "  (function(spec, embedOpt){\n",
       "    let outputDiv = document.currentScript.previousElementSibling;\n",
       "    if (outputDiv.id !== \"altair-viz-3fa80affe69e4d83b596fdcdef2c2d60\") {\n",
       "      outputDiv = document.getElementById(\"altair-viz-3fa80affe69e4d83b596fdcdef2c2d60\");\n",
       "    }\n",
       "    const paths = {\n",
       "      \"vega\": \"https://cdn.jsdelivr.net/npm//vega@5?noext\",\n",
       "      \"vega-lib\": \"https://cdn.jsdelivr.net/npm//vega-lib?noext\",\n",
       "      \"vega-lite\": \"https://cdn.jsdelivr.net/npm//vega-lite@4.17.0?noext\",\n",
       "      \"vega-embed\": \"https://cdn.jsdelivr.net/npm//vega-embed@6?noext\",\n",
       "    };\n",
       "\n",
       "    function maybeLoadScript(lib, version) {\n",
       "      var key = `${lib.replace(\"-\", \"\")}_version`;\n",
       "      return (VEGA_DEBUG[key] == version) ?\n",
       "        Promise.resolve(paths[lib]) :\n",
       "        new Promise(function(resolve, reject) {\n",
       "          var s = document.createElement('script');\n",
       "          document.getElementsByTagName(\"head\")[0].appendChild(s);\n",
       "          s.async = true;\n",
       "          s.onload = () => {\n",
       "            VEGA_DEBUG[key] = version;\n",
       "            return resolve(paths[lib]);\n",
       "          };\n",
       "          s.onerror = () => reject(`Error loading script: ${paths[lib]}`);\n",
       "          s.src = paths[lib];\n",
       "        });\n",
       "    }\n",
       "\n",
       "    function showError(err) {\n",
       "      outputDiv.innerHTML = `<div class=\"error\" style=\"color:red;\">${err}</div>`;\n",
       "      throw err;\n",
       "    }\n",
       "\n",
       "    function displayChart(vegaEmbed) {\n",
       "      vegaEmbed(outputDiv, spec, embedOpt)\n",
       "        .catch(err => showError(`Javascript Error: ${err.message}<br>This usually means there's a typo in your chart specification. See the javascript console for the full traceback.`));\n",
       "    }\n",
       "\n",
       "    if(typeof define === \"function\" && define.amd) {\n",
       "      requirejs.config({paths});\n",
       "      require([\"vega-embed\"], displayChart, err => showError(`Error loading script: ${err.message}`));\n",
       "    } else {\n",
       "      maybeLoadScript(\"vega\", \"5\")\n",
       "        .then(() => maybeLoadScript(\"vega-lite\", \"4.17.0\"))\n",
       "        .then(() => maybeLoadScript(\"vega-embed\", \"6\"))\n",
       "        .catch(showError)\n",
       "        .then(() => displayChart(vegaEmbed));\n",
       "    }\n",
       "  })({\"config\": {\"view\": {\"continuousWidth\": 400, \"continuousHeight\": 300}}, \"layer\": [{\"mark\": {\"type\": \"line\", \"color\": \"#5276A7\"}, \"encoding\": {\"x\": {\"field\": \"Year\", \"type\": \"quantitative\"}, \"y\": {\"field\": \"op\", \"type\": \"quantitative\"}}}, {\"mark\": {\"type\": \"line\", \"color\": \"#F18727\"}, \"encoding\": {\"x\": {\"field\": \"Year\", \"type\": \"quantitative\"}, \"y\": {\"field\": \"re\", \"type\": \"quantitative\"}}}], \"data\": {\"name\": \"data-51125fb7d822ece6b4a97a75ae54ecf9\"}, \"resolve\": {\"scale\": {\"y\": \"independent\"}}, \"$schema\": \"https://vega.github.io/schema/vega-lite/v4.17.0.json\", \"datasets\": {\"data-51125fb7d822ece6b4a97a75ae54ecf9\": [{\"Year\": 2011, \"op\": 298333146, \"re\": 347726278.26666665}, {\"Year\": 2012, \"op\": 316452046, \"re\": 361261685.25555557}, {\"Year\": 2013, \"op\": 292179210, \"re\": 341659209.2777778}, {\"Year\": 2014, \"op\": 289384970, \"re\": 334557749.0111111}, {\"Year\": 2015, \"op\": 313048218, \"re\": 365513356.3666667}, {\"Year\": 2016, \"op\": 323092614, \"re\": 372399161.1444444}, {\"Year\": 2017, \"op\": 318233964, \"re\": 373574236.6111111}, {\"Year\": 2018, \"op\": 301612602, \"re\": 342736782.0}, {\"Year\": 2019, \"op\": 305426598, \"re\": 348605135.0555555}, {\"Year\": 2020, \"op\": 304496286, \"re\": 349937539.26666665}, {\"Year\": 2021, \"op\": 300420802, \"re\": 347226189.67777777}, {\"Year\": 2022, \"op\": 296481726, \"re\": 342054494.85555553}]}}, {\"mode\": \"vega-lite\"});\n",
       "</script>"
      ],
      "text/plain": [
       "alt.LayerChart(...)"
      ]
     },
     "execution_count": 17,
     "metadata": {},
     "output_type": "execute_result"
    }
   ],
   "source": [
    "chart = alt.Chart(New).mark_line().encode(x='Year')\n",
    "line_A = chart.mark_line(color='#5276A7').encode(y='op')\n",
    "line_B = chart.mark_line(color='#F18727').encode(y='re')\n",
    "alt.layer(line_A, line_B).resolve_scale(y='independent')"
   ]
  },
  {
   "cell_type": "code",
   "execution_count": null,
   "metadata": {},
   "outputs": [],
   "source": []
  },
  {
   "cell_type": "markdown",
   "metadata": {},
   "source": [
    "**20. Display number of male and female passengers year wise using Graph**"
   ]
  },
  {
   "cell_type": "code",
   "execution_count": 11,
   "metadata": {},
   "outputs": [
    {
     "data": {
      "text/html": [
       "<div>\n",
       "<style scoped>\n",
       "    .dataframe tbody tr th:only-of-type {\n",
       "        vertical-align: middle;\n",
       "    }\n",
       "\n",
       "    .dataframe tbody tr th {\n",
       "        vertical-align: top;\n",
       "    }\n",
       "\n",
       "    .dataframe thead th {\n",
       "        text-align: right;\n",
       "    }\n",
       "</style>\n",
       "<table border=\"1\" class=\"dataframe\">\n",
       "  <thead>\n",
       "    <tr style=\"text-align: right;\">\n",
       "      <th></th>\n",
       "      <th>Year</th>\n",
       "      <th>male</th>\n",
       "      <th>female</th>\n",
       "    </tr>\n",
       "  </thead>\n",
       "  <tbody>\n",
       "    <tr>\n",
       "      <th>0</th>\n",
       "      <td>2011</td>\n",
       "      <td>240167</td>\n",
       "      <td>364133</td>\n",
       "    </tr>\n",
       "    <tr>\n",
       "      <th>1</th>\n",
       "      <td>2012</td>\n",
       "      <td>244751</td>\n",
       "      <td>377749</td>\n",
       "    </tr>\n",
       "    <tr>\n",
       "      <th>2</th>\n",
       "      <td>2013</td>\n",
       "      <td>230896</td>\n",
       "      <td>353604</td>\n",
       "    </tr>\n",
       "    <tr>\n",
       "      <th>3</th>\n",
       "      <td>2014</td>\n",
       "      <td>240216</td>\n",
       "      <td>354484</td>\n",
       "    </tr>\n",
       "    <tr>\n",
       "      <th>4</th>\n",
       "      <td>2015</td>\n",
       "      <td>243240</td>\n",
       "      <td>380860</td>\n",
       "    </tr>\n",
       "    <tr>\n",
       "      <th>5</th>\n",
       "      <td>2016</td>\n",
       "      <td>252847</td>\n",
       "      <td>386253</td>\n",
       "    </tr>\n",
       "    <tr>\n",
       "      <th>6</th>\n",
       "      <td>2017</td>\n",
       "      <td>248578</td>\n",
       "      <td>385422</td>\n",
       "    </tr>\n",
       "    <tr>\n",
       "      <th>7</th>\n",
       "      <td>2018</td>\n",
       "      <td>242550</td>\n",
       "      <td>364350</td>\n",
       "    </tr>\n",
       "    <tr>\n",
       "      <th>8</th>\n",
       "      <td>2019</td>\n",
       "      <td>245634</td>\n",
       "      <td>364366</td>\n",
       "    </tr>\n",
       "    <tr>\n",
       "      <th>9</th>\n",
       "      <td>2020</td>\n",
       "      <td>243304</td>\n",
       "      <td>372196</td>\n",
       "    </tr>\n",
       "    <tr>\n",
       "      <th>10</th>\n",
       "      <td>2021</td>\n",
       "      <td>241554</td>\n",
       "      <td>369946</td>\n",
       "    </tr>\n",
       "    <tr>\n",
       "      <th>11</th>\n",
       "      <td>2022</td>\n",
       "      <td>244897</td>\n",
       "      <td>364103</td>\n",
       "    </tr>\n",
       "  </tbody>\n",
       "</table>\n",
       "</div>"
      ],
      "text/plain": [
       "    Year    male  female\n",
       "0   2011  240167  364133\n",
       "1   2012  244751  377749\n",
       "2   2013  230896  353604\n",
       "3   2014  240216  354484\n",
       "4   2015  243240  380860\n",
       "5   2016  252847  386253\n",
       "6   2017  248578  385422\n",
       "7   2018  242550  364350\n",
       "8   2019  245634  364366\n",
       "9   2020  243304  372196\n",
       "10  2021  241554  369946\n",
       "11  2022  244897  364103"
      ]
     },
     "execution_count": 11,
     "metadata": {},
     "output_type": "execute_result"
    }
   ],
   "source": [
    "X1 = Airline_Dataset.groupby('Year')['Male Passengers'].sum().reset_index(name='male')\n",
    "X2 = Airline_Dataset.groupby('Year')['Female Passengers'].sum().reset_index(name='female')\n",
    "New1 =pd.merge(X1,X2,how=\"inner\")\n",
    "New1"
   ]
  },
  {
   "cell_type": "code",
   "execution_count": 12,
   "metadata": {},
   "outputs": [
    {
     "data": {
      "image/png": "[encoded data removed]",
      "text/plain": [
       "<Figure size 432x288 with 1 Axes>"
      ]
     },
     "metadata": {
      "needs_background": "light"
     },
     "output_type": "display_data"
    }
   ],
   "source": [
    "plt.bar(X1['Year'] ,X1['male'] , color='pink')\n",
    "plt.scatter(X2['Year'] ,X2['female'] , color='blue')\n",
    "plt.xlabel('Year')\n",
    "plt.ylabel('number of male & female')\n",
    "plt.title('passenger details')\n",
    "plt.show()"
   ]
  },
  {
   "cell_type": "code",
   "execution_count": null,
   "metadata": {},
   "outputs": [],
   "source": []
  }
 ],
 "metadata": {
  "kernelspec": {
   "display_name": "Python 3 (ipykernel)",
   "language": "python",
   "name": "python3"
  },
  "language_info": {
   "codemirror_mode": {
    "name": "ipython",
    "version": 3
   },
   "file_extension": ".py",
   "mimetype": "text/x-python",
   "name": "python",
   "nbconvert_exporter": "python",
   "pygments_lexer": "ipython3",
   "version": "3.9.7"
  }
 },
 "nbformat": 4,
 "nbformat_minor": 2
}
